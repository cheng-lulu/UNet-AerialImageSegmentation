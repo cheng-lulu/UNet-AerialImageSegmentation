{
 "cells": [
  {
   "cell_type": "code",
   "execution_count": 1,
   "metadata": {
    "pycharm": {
     "is_executing": false,
     "metadata": false,
     "name": "#%%\n"
    }
   },
   "outputs": [],
   "source": [
    "import sys\n",
    "sys.path.append('..')\n",
    "from src.train import *"
   ]
  },
  {
   "cell_type": "markdown",
   "metadata": {
    "pycharm": {
     "metadata": false
    }
   },
   "source": [
    "# 获得数据集"
   ]
  },
  {
   "cell_type": "code",
   "execution_count": 2,
   "metadata": {
    "pycharm": {
     "name": "#%%\n"
    }
   },
   "outputs": [
    {
     "name": "stderr",
     "output_type": "stream",
     "text": [
      "2019-05-25 13:46:09,517 >>>从D:/INRIA\\tfrecord取得65个数据集<<<\n"
     ]
    }
   ],
   "source": [
    "dataset_dir=get_dataset_dirs('D:/INRIA')\n",
    "net_dir=get_net_dirs('../unet')\n",
    "dataset_iter=get_data_iterator(dataset_dir['tfrecord'],1,4,10000)"
   ]
  },
  {
   "cell_type": "markdown",
   "metadata": {
    "pycharm": {
     "metadata": false,
     "name": "#%% md\n"
    }
   },
   "source": [
    "# 开始训练"
   ]
  },
  {
   "cell_type": "code",
   "execution_count": null,
   "metadata": {
    "pycharm": {
     "name": "#%%\n"
    }
   },
   "outputs": [
    {
     "name": "stderr",
     "output_type": "stream",
     "text": [
      "2019-05-25 13:46:09,614 开始搭建UNet！\n",
      "2019-05-25 13:46:11,242 From C:\\Users\\gzr19\\Anaconda3\\lib\\site-packages\\tensorflow\\python\\framework\\op_def_library.py:263: colocate_with (from tensorflow.python.framework.ops) is deprecated and will be removed in a future version.\n",
      "Instructions for updating:\n",
      "Colocations handled automatically by placer.\n"
     ]
    },
    {
     "name": "stdout",
     "output_type": "stream",
     "text": [
      "\n",
      "WARNING: The TensorFlow contrib module will not be included in TensorFlow 2.0.\n",
      "For more information, please see:\n",
      "  * https://github.com/tensorflow/community/blob/master/rfcs/20180907-contrib-sunset.md\n",
      "  * https://github.com/tensorflow/addons\n",
      "If you depend on functionality not listed there, please file an issue.\n",
      "\n"
     ]
    },
    {
     "name": "stderr",
     "output_type": "stream",
     "text": [
      "2019-05-25 13:46:11,846 UNet搭建完毕！\n",
      "2019-05-25 13:46:11,911 From C:\\Users\\gzr19\\Anaconda3\\lib\\site-packages\\tensorflow\\python\\ops\\confusion_matrix.py:193: to_int64 (from tensorflow.python.ops.math_ops) is deprecated and will be removed in a future version.\n",
      "Instructions for updating:\n",
      "Use tf.cast instead.\n",
      "2019-05-25 13:46:11,912 From C:\\Users\\gzr19\\Anaconda3\\lib\\site-packages\\tensorflow\\python\\ops\\confusion_matrix.py:194: to_int32 (from tensorflow.python.ops.math_ops) is deprecated and will be removed in a future version.\n",
      "Instructions for updating:\n",
      "Use tf.cast instead.\n",
      "2019-05-25 13:46:20,317 >>>Start Optimization!<<<\n",
      "2019-05-25 13:49:20,789 迭代到第0轮；现在的cost为：2.791881561279297；accuracy为：0.77410888671875；F1 Score为：0.009302014321086797；交叉熵为：2.791881561279297\n",
      "2019-05-25 13:49:28,322 迭代到第10轮；现在的cost为：0.9448651075363159；accuracy为：0.8716850280761719；F1 Score为：0.0361614945986991；交叉熵为：0.9448651075363159\n",
      "2019-05-25 13:49:34,612 迭代到第20轮；现在的cost为：0.8463996052742004；accuracy为：0.6698036193847656；F1 Score为：0.20866130934423083；交叉熵为：0.8463996052742004\n",
      "2019-05-25 13:49:41,382 迭代到第30轮；现在的cost为：0.9096704721450806；accuracy为：0.6874618530273438；F1 Score为：0.1854083397959792；交叉熵为：0.9096704721450806\n",
      "C:\\Users\\gzr19\\Anaconda3\\lib\\site-packages\\tensorflow\\python\\data\\ops\\iterator_ops.py:408: UserWarning: An unusually high number of `Iterator.get_next()` calls was detected. This often indicates that `Iterator.get_next()` is being called inside a training loop, which will cause gradual slowdown and eventual resource exhaustion. If this is the case, restructure your code to call `next_element = iterator.get_next()` once outside the loop, and use `next_element` as the input to some computation that is invoked inside the loop.\n",
      "  warnings.warn(GET_NEXT_CALL_WARNING_MESSAGE)\n",
      "2019-05-25 13:49:48,678 迭代到第40轮；现在的cost为：0.7236884832382202；accuracy为：0.79144287109375；F1 Score为：0.09300242211088622；交叉熵为：0.7236884832382202\n"
     ]
    }
   ],
   "source": [
    "unet=NeuralNet()\n",
    "train(unet,net_dir,dataset_iter,3000)"
   ]
  }
 ],
 "metadata": {
  "kernelspec": {
   "display_name": "Python 3",
   "language": "python",
   "name": "python3"
  },
  "language_info": {
   "codemirror_mode": {
    "name": "ipython",
    "version": 3
   },
   "file_extension": ".py",
   "mimetype": "text/x-python",
   "name": "python",
   "nbconvert_exporter": "python",
   "pygments_lexer": "ipython3",
   "version": "3.7.3"
  },
  "pycharm": {
   "stem_cell": {
    "cell_type": "raw",
    "metadata": {
     "collapsed": false
    },
    "source": []
   }
  },
  "stem_cell": {
   "cell_type": "raw",
   "metadata": {
    "pycharm": {
     "metadata": false
    }
   },
   "source": ""
  },
  "toc": {
   "base_numbering": 1,
   "nav_menu": {},
   "number_sections": true,
   "sideBar": true,
   "skip_h1_title": false,
   "title_cell": "Table of Contents",
   "title_sidebar": "Contents",
   "toc_cell": false,
   "toc_position": {},
   "toc_section_display": true,
   "toc_window_display": false
  }
 },
 "nbformat": 4,
 "nbformat_minor": 1
}
