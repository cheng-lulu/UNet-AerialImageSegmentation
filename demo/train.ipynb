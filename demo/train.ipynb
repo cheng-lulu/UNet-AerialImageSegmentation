{
  "cells": [
    {
      "cell_type": "code",
      "execution_count": 1,
      "metadata": {
        "pycharm": {
          "is_executing": false,
          "metadata": false,
          "name": "#%%\n"
        }
      },
      "outputs": [],
      "source": [
        "import sys\n",
        "sys.path.append(\u0027..\u0027)\n",
        "from src.train import *"
      ]
    },
    {
      "cell_type": "markdown",
      "metadata": {
        "pycharm": {
          "metadata": false
        }
      },
      "source": [
        "# 创建数据集\n",
        "## 指定数据集位置"
      ]
    },
    {
      "cell_type": "code",
      "execution_count": 2,
      "metadata": {
        "pycharm": {
          "is_executing": false,
          "metadata": false,
          "name": "#%%\n"
        }
      },
      "outputs": [],
      "source": "train_dataset \u003d DatasetDir(\u0027D:/数据集/fake_data/aero_data/train\u0027)\n# train_dataset \u003d DatasetDir(\u0027D:/数据集/fake_data/cancer_data/train\u0027)"
    },
    {
      "cell_type": "markdown",
      "metadata": {
        "pycharm": {
          "metadata": false,
          "name": "#%% md\n"
        }
      },
      "source": [
        "## 对数据进行分割、分离通道及创建数据集操作"
      ]
    },
    {
      "cell_type": "code",
      "execution_count": 3,
      "metadata": {
        "pycharm": {
          "is_executing": false
        }
      },
      "outputs": [
        {
          "name": "stderr",
          "output_type": "stream",
          "text": [
            "2019-05-06 11:09:48,418 \u003e\u003e\u003e开始将目录../aero_data/train\\original/data下的图片分割\u003c\u003c\u003c\n",
            "2019-05-06 11:09:49,016 \u003e\u003e\u003e开始将目录../aero_data/train\\original/label下的图片分割\u003c\u003c\u003c\n",
            "2019-05-06 11:09:49,298 \u003e\u003e\u003e开始将目录../aero_data/train\\split/label下的图片转换为数组\u003c\u003c\u003c\n",
            "2019-05-06 11:09:52,106 \u003e\u003e\u003e开始生成数据集，数据集保存至../aero_data/train\\tfrecord\u003c\u003c\u003c\n"
          ]
        }
      ],
      "source": [
        "train_dataset.data_nagare()"
      ]
    },
    {
      "cell_type": "markdown",
      "metadata": {
        "pycharm": {
          "metadata": false,
          "name": "#%% md\n"
        }
      },
      "source": [
        "## 获得数据集迭代器"
      ]
    },
    {
      "cell_type": "code",
      "execution_count": 4,
      "metadata": {
        "pycharm": {
          "is_executing": false,
          "metadata": false,
          "name": "#%%\n"
        }
      },
      "outputs": [
        {
          "name": "stderr",
          "output_type": "stream",
          "text": [
            "2019-05-06 11:10:52,614 \u003e\u003e\u003e从../aero_data/train\\tfrecord取得数据集\u003c\u003c\u003c\n"
          ]
        }
      ],
      "source": [
        "# test_dataset.get_a_iterator()\n",
        "train_dataset.get_a_iterator()"
      ]
    },
    {
      "cell_type": "markdown",
      "metadata": {
        "pycharm": {
          "name": "#%% md\n"
        }
      },
      "source": [
        "# 构建UNet\n",
        "## 生成网络"
      ]
    },
    {
      "cell_type": "code",
      "execution_count": null,
      "metadata": {
        "pycharm": {
          "is_executing": false
        }
      },
      "outputs": [
        {
          "name": "stderr",
          "output_type": "stream",
          "text": [
            "2019-05-06 11:10:52,679 开始搭建UNet！\n"
          ]
        },
        {
          "name": "stdout",
          "output_type": "stream",
          "text": [
            "\n",
            "WARNING: The TensorFlow contrib module will not be included in TensorFlow 2.0.\n",
            "For more information, please see:\n",
            "  * https://github.com/tensorflow/community/blob/master/rfcs/20180907-contrib-sunset.md\n",
            "  * https://github.com/tensorflow/addons\n",
            "If you depend on functionality not listed there, please file an issue.\n",
            "\n",
            "WARNING:tensorflow:From C:\\Users\\gzr19\\Anaconda3\\lib\\site-packages\\tensorflow\\python\\framework\\op_def_library.py:263: colocate_with (from tensorflow.python.framework.ops) is deprecated and will be removed in a future version.\n",
            "Instructions for updating:\n",
            "Colocations handled automatically by placer.\n"
          ]
        },
        {
          "name": "stderr",
          "output_type": "stream",
          "text": [
            "2019-05-06 11:10:54,151 From C:\\Users\\gzr19\\Anaconda3\\lib\\site-packages\\tensorflow\\python\\framework\\op_def_library.py:263: colocate_with (from tensorflow.python.framework.ops) is deprecated and will be removed in a future version.\n",
            "Instructions for updating:\n",
            "Colocations handled automatically by placer.\n",
            "2019-05-06 11:10:54,771 UNet搭建完毕！\n"
          ]
        },
        {
          "name": "stdout",
          "output_type": "stream",
          "text": [
            "WARNING:tensorflow:From C:\\Users\\gzr19\\Anaconda3\\lib\\site-packages\\tensorflow\\python\\ops\\math_ops.py:3066: to_int32 (from tensorflow.python.ops.math_ops) is deprecated and will be removed in a future version.\n",
            "Instructions for updating:\n",
            "Use tf.cast instead.\n"
          ]
        },
        {
          "name": "stderr",
          "output_type": "stream",
          "text": [
            "2019-05-06 11:10:54,825 From C:\\Users\\gzr19\\Anaconda3\\lib\\site-packages\\tensorflow\\python\\ops\\math_ops.py:3066: to_int32 (from tensorflow.python.ops.math_ops) is deprecated and will be removed in a future version.\n",
            "Instructions for updating:\n",
            "Use tf.cast instead.\n"
          ]
        },
        {
          "name": "stdout",
          "output_type": "stream",
          "text": [
            "WARNING:tensorflow:From C:\\Users\\gzr19\\Anaconda3\\lib\\site-packages\\tensorflow\\python\\ops\\math_grad.py:102: div (from tensorflow.python.ops.math_ops) is deprecated and will be removed in a future version.\n",
            "Instructions for updating:\n",
            "Deprecated in favor of operator or tf.math.divide.\n"
          ]
        },
        {
          "name": "stderr",
          "output_type": "stream",
          "text": [
            "2019-05-06 11:10:54,856 From C:\\Users\\gzr19\\Anaconda3\\lib\\site-packages\\tensorflow\\python\\ops\\math_grad.py:102: div (from tensorflow.python.ops.math_ops) is deprecated and will be removed in a future version.\n",
            "Instructions for updating:\n",
            "Deprecated in favor of operator or tf.math.divide.\n"
          ]
        }
      ],
      "source": [
        "unet \u003d UNet()"
      ]
    },
    {
      "cell_type": "markdown",
      "metadata": {
        "pycharm": {
          "metadata": false,
          "name": "#%% md\n"
        }
      },
      "source": [
        "## 指定网络储存位置"
      ]
    },
    {
      "cell_type": "code",
      "execution_count": null,
      "metadata": {
        "pycharm": {
          "is_executing": false,
          "metadata": false,
          "name": "#%%\n"
        }
      },
      "outputs": [],
      "source": [
        "i_net \u003d NetDir(\u0027../i_net\u0027, \u0027unet\u0027)"
      ]
    },
    {
      "cell_type": "markdown",
      "metadata": {
        "pycharm": {
          "metadata": false,
          "name": "#%% md\n"
        }
      },
      "source": [
        "# 开始训练"
      ]
    },
    {
      "cell_type": "code",
      "execution_count": null,
      "metadata": {
        "pycharm": {
          "metadata": false,
          "name": "#%%\n"
        },
        "scrolled": true
      },
      "outputs": [
        {
          "name": "stderr",
          "output_type": "stream",
          "text": [
            "2019-05-06 11:10:57,848 Start Optimization\n",
            "2019-05-06 11:11:14,788 迭代到第0轮；现在的loss为：3.8430230617523193\n",
            "2019-05-06 11:11:27,802 迭代到第5轮；现在的loss为：0.4342461824417114\n",
            "2019-05-06 11:11:42,298 迭代到第10轮；现在的loss为：0.35014602541923523\n",
            "2019-05-06 11:11:58,692 迭代到第15轮；现在的loss为：0.388381689786911\n",
            "2019-05-06 11:12:17,428 迭代到第20轮；现在的loss为：0.38875773549079895\n",
            "2019-05-06 11:12:37,723 迭代到第25轮；现在的loss为：0.39162570238113403\n",
            "2019-05-06 11:13:00,259 迭代到第30轮；现在的loss为：0.35856083035469055\n",
            "C:\\Users\\gzr19\\Anaconda3\\lib\\site-packages\\tensorflow\\python\\data\\ops\\iterator_ops.py:408: UserWarning: An unusually high number of `Iterator.get_next()` calls was detected. This often indicates that `Iterator.get_next()` is being called inside a training loop, which will cause gradual slowdown and eventual resource exhaustion. If this is the case, restructure your code to call `next_element \u003d iterator.get_next()` once outside the loop, and use `next_element` as the input to some computation that is invoked inside the loop.\n",
            "  warnings.warn(GET_NEXT_CALL_WARNING_MESSAGE)\n",
            "2019-05-06 11:13:24,693 迭代到第35轮；现在的loss为：0.35407209396362305\n",
            "2019-05-06 11:13:51,144 迭代到第40轮；现在的loss为：0.3686627447605133\n",
            "2019-05-06 11:14:19,831 迭代到第45轮；现在的loss为：0.3623490035533905\n",
            "2019-05-06 11:14:51,237 迭代到第50轮；现在的loss为：0.3500221371650696\n",
            "2019-05-06 11:15:24,356 迭代到第55轮；现在的loss为：0.3473140597343445\n",
            "2019-05-06 11:15:59,464 迭代到第60轮；现在的loss为：0.3528212904930115\n",
            "2019-05-06 11:16:36,204 迭代到第65轮；现在的loss为：0.3453949987888336\n",
            "2019-05-06 11:17:15,466 迭代到第70轮；现在的loss为：0.35987621545791626\n",
            "2019-05-06 11:17:56,590 迭代到第75轮；现在的loss为：0.35049885511398315\n",
            "2019-05-06 11:18:39,840 迭代到第80轮；现在的loss为：0.34737515449523926\n",
            "2019-05-06 11:19:25,022 迭代到第85轮；现在的loss为：0.35246172547340393\n",
            "2019-05-06 11:20:12,059 迭代到第90轮；现在的loss为：0.35169532895088196\n",
            "2019-05-06 11:21:01,821 迭代到第95轮；现在的loss为：0.34862104058265686\n",
            "2019-05-06 11:21:53,251 迭代到第100轮；现在的loss为：0.34558016061782837\n",
            "2019-05-06 11:22:46,718 迭代到第105轮；现在的loss为：0.33819109201431274\n",
            "2019-05-06 11:23:42,139 迭代到第110轮；现在的loss为：0.3427049219608307\n",
            "2019-05-06 11:24:39,043 迭代到第115轮；现在的loss为：0.33057326078414917\n",
            "2019-05-06 11:25:38,454 迭代到第120轮；现在的loss为：0.3239457905292511\n",
            "2019-05-06 11:26:39,810 迭代到第125轮；现在的loss为：0.29277321696281433\n",
            "2019-05-06 11:27:43,300 迭代到第130轮；现在的loss为：0.2547631561756134\n",
            "2019-05-06 11:28:48,643 迭代到第135轮；现在的loss为：0.21091249585151672\n",
            "2019-05-06 11:29:57,098 迭代到第140轮；现在的loss为：0.26118624210357666\n",
            "2019-05-06 11:31:07,157 迭代到第145轮；现在的loss为：0.24494855105876923\n",
            "2019-05-06 11:32:18,652 迭代到第150轮；现在的loss为：0.15193933248519897\n",
            "2019-05-06 11:33:32,434 迭代到第155轮；现在的loss为：0.20707601308822632\n",
            "2019-05-06 11:34:49,070 迭代到第160轮；现在的loss为：0.22160513699054718\n",
            "2019-05-06 11:36:06,420 迭代到第165轮；现在的loss为：0.2587163746356964\n",
            "2019-05-06 11:37:27,022 迭代到第170轮；现在的loss为：0.3041459619998932\n",
            "2019-05-06 11:38:49,222 迭代到第175轮；现在的loss为：0.21502482891082764\n",
            "2019-05-06 11:40:14,718 迭代到第180轮；现在的loss为：0.17019255459308624\n",
            "2019-05-06 11:41:40,356 迭代到第185轮；现在的loss为：0.20717963576316833\n",
            "2019-05-06 11:43:09,649 迭代到第190轮；现在的loss为：0.21392463147640228\n",
            "2019-05-06 11:44:39,874 迭代到第195轮；现在的loss为：0.205905482172966\n",
            "2019-05-06 11:46:12,603 迭代到第200轮；现在的loss为：0.2396615594625473\n"
          ]
        }
      ],
      "source": [
        "train(unet, i_net, train_dataset)"
      ]
    },
    {
      "cell_type": "code",
      "execution_count": null,
      "metadata": {
        "pycharm": {}
      },
      "outputs": [],
      "source": []
    }
  ],
  "metadata": {
    "kernelspec": {
      "display_name": "Python 3",
      "language": "python",
      "name": "python3"
    },
    "language_info": {
      "codemirror_mode": {
        "name": "ipython",
        "version": 3
      },
      "file_extension": ".py",
      "mimetype": "text/x-python",
      "name": "python",
      "nbconvert_exporter": "python",
      "pygments_lexer": "ipython3",
      "version": "3.7.3"
    },
    "stem_cell": {
      "cell_type": "raw",
      "metadata": {
        "pycharm": {
          "metadata": false
        }
      },
      "source": ""
    },
    "toc": {
      "base_numbering": 1,
      "nav_menu": {},
      "number_sections": true,
      "sideBar": true,
      "skip_h1_title": false,
      "title_cell": "Table of Contents",
      "title_sidebar": "Contents",
      "toc_cell": false,
      "toc_position": {},
      "toc_section_display": true,
      "toc_window_display": false
    }
  },
  "nbformat": 4,
  "nbformat_minor": 1
}