{
 "cells": [
  {
   "cell_type": "code",
   "execution_count": 1,
   "metadata": {
    "pycharm": {
     "is_executing": false,
     "metadata": false,
     "name": "#%%\n"
    }
   },
   "outputs": [],
   "source": [
    "import sys\n",
    "sys.path.append('..')\n",
    "from src.train import *"
   ]
  },
  {
   "cell_type": "markdown",
   "metadata": {
    "pycharm": {
     "metadata": false
    }
   },
   "source": [
    "# 创建数据集\n",
    "## 指定数据集位置"
   ]
  },
  {
   "cell_type": "code",
   "execution_count": 2,
   "metadata": {
    "pycharm": {
     "is_executing": false,
     "metadata": false,
     "name": "#%%\n"
    }
   },
   "outputs": [],
   "source": [
    "# test_dataset = DatasetDir('../fake_data/test')\n",
    "train_dataset = DatasetDir('../cancer_data/train')"
   ]
  },
  {
   "cell_type": "markdown",
   "metadata": {
    "pycharm": {
     "metadata": false,
     "name": "#%% md\n"
    }
   },
   "source": [
    "## 对数据进行分割、分离通道及创建数据集操作"
   ]
  },
  {
   "cell_type": "code",
   "execution_count": 3,
   "metadata": {
    "pycharm": {
     "is_executing": false
    }
   },
   "outputs": [],
   "source": [
    "# test_dataset.data_nagare()\n",
    "train_dataset.data_nagare()"
   ]
  },
  {
   "cell_type": "markdown",
   "metadata": {
    "pycharm": {
     "metadata": false,
     "name": "#%% md\n"
    }
   },
   "source": [
    "## 获得数据集迭代器"
   ]
  },
  {
   "cell_type": "code",
   "execution_count": null,
   "metadata": {
    "pycharm": {
     "is_executing": false,
     "metadata": false,
     "name": "#%%\n"
    }
   },
   "outputs": [
    {
     "name": "stderr",
     "output_type": "stream",
     "text": [
      "2019-05-06 08:42:45,443 >>>从../cancer_data/train\\tfrecord取得数据集<<<\n"
     ]
    }
   ],
   "source": [
    "# test_dataset.get_a_iterator()\n",
    "train_dataset.get_a_iterator()"
   ]
  },
  {
   "cell_type": "markdown",
   "metadata": {
    "pycharm": {
     "name": "#%% md\n"
    }
   },
   "source": [
    "# 构建UNet\n",
    "## 生成网络"
   ]
  },
  {
   "cell_type": "code",
   "execution_count": null,
   "metadata": {
    "pycharm": {
     "is_executing": false
    }
   },
   "outputs": [
    {
     "name": "stderr",
     "output_type": "stream",
     "text": [
      "2019-05-06 08:42:45,507 开始搭建UNet！\n"
     ]
    },
    {
     "name": "stdout",
     "output_type": "stream",
     "text": [
      "\n",
      "WARNING: The TensorFlow contrib module will not be included in TensorFlow 2.0.\n",
      "For more information, please see:\n",
      "  * https://github.com/tensorflow/community/blob/master/rfcs/20180907-contrib-sunset.md\n",
      "  * https://github.com/tensorflow/addons\n",
      "If you depend on functionality not listed there, please file an issue.\n",
      "\n",
      "WARNING:tensorflow:From C:\\Users\\gzr19\\Anaconda3\\lib\\site-packages\\tensorflow\\python\\framework\\op_def_library.py:263: colocate_with (from tensorflow.python.framework.ops) is deprecated and will be removed in a future version.\n",
      "Instructions for updating:\n",
      "Colocations handled automatically by placer.\n"
     ]
    },
    {
     "name": "stderr",
     "output_type": "stream",
     "text": [
      "2019-05-06 08:42:46,438 From C:\\Users\\gzr19\\Anaconda3\\lib\\site-packages\\tensorflow\\python\\framework\\op_def_library.py:263: colocate_with (from tensorflow.python.framework.ops) is deprecated and will be removed in a future version.\n",
      "Instructions for updating:\n",
      "Colocations handled automatically by placer.\n",
      "2019-05-06 08:42:47,028 UNet搭建完毕！\n"
     ]
    },
    {
     "name": "stdout",
     "output_type": "stream",
     "text": [
      "WARNING:tensorflow:From C:\\Users\\gzr19\\Anaconda3\\lib\\site-packages\\tensorflow\\python\\ops\\math_ops.py:3066: to_int32 (from tensorflow.python.ops.math_ops) is deprecated and will be removed in a future version.\n",
      "Instructions for updating:\n",
      "Use tf.cast instead.\n"
     ]
    },
    {
     "name": "stderr",
     "output_type": "stream",
     "text": [
      "2019-05-06 08:42:47,086 From C:\\Users\\gzr19\\Anaconda3\\lib\\site-packages\\tensorflow\\python\\ops\\math_ops.py:3066: to_int32 (from tensorflow.python.ops.math_ops) is deprecated and will be removed in a future version.\n",
      "Instructions for updating:\n",
      "Use tf.cast instead.\n"
     ]
    },
    {
     "name": "stdout",
     "output_type": "stream",
     "text": [
      "WARNING:tensorflow:From C:\\Users\\gzr19\\Anaconda3\\lib\\site-packages\\tensorflow\\python\\ops\\math_grad.py:102: div (from tensorflow.python.ops.math_ops) is deprecated and will be removed in a future version.\n",
      "Instructions for updating:\n",
      "Deprecated in favor of operator or tf.math.divide.\n"
     ]
    },
    {
     "name": "stderr",
     "output_type": "stream",
     "text": [
      "2019-05-06 08:42:47,123 From C:\\Users\\gzr19\\Anaconda3\\lib\\site-packages\\tensorflow\\python\\ops\\math_grad.py:102: div (from tensorflow.python.ops.math_ops) is deprecated and will be removed in a future version.\n",
      "Instructions for updating:\n",
      "Deprecated in favor of operator or tf.math.divide.\n"
     ]
    }
   ],
   "source": [
    "unet = UNet()"
   ]
  },
  {
   "cell_type": "markdown",
   "metadata": {
    "pycharm": {
     "metadata": false,
     "name": "#%% md\n"
    }
   },
   "source": [
    "## 指定网络储存位置"
   ]
  },
  {
   "cell_type": "code",
   "execution_count": null,
   "metadata": {
    "pycharm": {
     "is_executing": false,
     "metadata": false,
     "name": "#%%\n"
    }
   },
   "outputs": [],
   "source": [
    "i_net = NetDir('../i_net', 'unet')"
   ]
  },
  {
   "cell_type": "markdown",
   "metadata": {
    "pycharm": {
     "metadata": false,
     "name": "#%% md\n"
    }
   },
   "source": [
    "# 开始训练"
   ]
  },
  {
   "cell_type": "code",
   "execution_count": null,
   "metadata": {
    "pycharm": {
     "metadata": false,
     "name": "#%%\n"
    },
    "scrolled": true
   },
   "outputs": [
    {
     "name": "stderr",
     "output_type": "stream",
     "text": [
      "2019-05-06 08:42:53,674 Start Optimization\n",
      "2019-05-06 08:43:10,864 迭代到第0轮；现在的loss为：0.43329405784606934\n",
      "2019-05-06 08:43:28,713 迭代到第5轮；现在的loss为：0.29089242219924927\n",
      "2019-05-06 08:43:49,061 迭代到第10轮；现在的loss为：0.31200775504112244\n",
      "2019-05-06 08:44:12,526 迭代到第15轮；现在的loss为：0.28454434871673584\n",
      "2019-05-06 08:44:39,022 迭代到第20轮；现在的loss为：0.2607535719871521\n",
      "2019-05-06 08:45:08,576 迭代到第25轮；现在的loss为：0.28584200143814087\n",
      "2019-05-06 08:45:40,908 迭代到第30轮；现在的loss为：0.24123868346214294\n",
      "C:\\Users\\gzr19\\Anaconda3\\lib\\site-packages\\tensorflow\\python\\data\\ops\\iterator_ops.py:408: UserWarning: An unusually high number of `Iterator.get_next()` calls was detected. This often indicates that `Iterator.get_next()` is being called inside a training loop, which will cause gradual slowdown and eventual resource exhaustion. If this is the case, restructure your code to call `next_element = iterator.get_next()` once outside the loop, and use `next_element` as the input to some computation that is invoked inside the loop.\n",
      "  warnings.warn(GET_NEXT_CALL_WARNING_MESSAGE)\n",
      "2019-05-06 08:46:16,372 迭代到第35轮；现在的loss为：0.24509520828723907\n",
      "2019-05-06 08:46:54,550 迭代到第40轮；现在的loss为：0.22858569025993347\n",
      "2019-05-06 08:47:35,765 迭代到第45轮；现在的loss为：0.21653956174850464\n",
      "2019-05-06 08:48:20,211 迭代到第50轮；现在的loss为：0.22507049143314362\n",
      "2019-05-06 08:49:08,512 迭代到第55轮；现在的loss为：0.22935116291046143\n",
      "2019-05-06 08:49:59,307 迭代到第60轮；现在的loss为：0.19939588010311127\n",
      "2019-05-06 08:50:52,257 迭代到第65轮；现在的loss为：0.2024041712284088\n",
      "2019-05-06 08:51:48,852 迭代到第70轮；现在的loss为：0.19317738711833954\n",
      "2019-05-06 08:52:49,022 迭代到第75轮；现在的loss为：0.21752358973026276\n",
      "2019-05-06 08:53:51,708 迭代到第80轮；现在的loss为：0.2038346529006958\n",
      "2019-05-06 08:54:57,762 迭代到第85轮；现在的loss为：0.19659876823425293\n",
      "2019-05-06 08:56:07,339 迭代到第90轮；现在的loss为：0.20363552868366241\n",
      "2019-05-06 08:57:20,528 迭代到第95轮；现在的loss为：0.17362965643405914\n",
      "2019-05-06 08:58:34,507 迭代到第100轮；现在的loss为：0.19576476514339447\n",
      "2019-05-06 08:59:53,262 迭代到第105轮；现在的loss为：0.1804041862487793\n",
      "2019-05-06 09:01:14,378 迭代到第110轮；现在的loss为：0.1901538372039795\n",
      "2019-05-06 09:02:39,759 迭代到第115轮；现在的loss为：0.19752074778079987\n",
      "2019-05-06 09:04:06,768 迭代到第120轮；现在的loss为：0.20151358842849731\n",
      "2019-05-06 09:05:37,364 迭代到第125轮；现在的loss为：0.17667292058467865\n",
      "2019-05-06 09:07:10,704 迭代到第130轮；现在的loss为：0.20834848284721375\n",
      "2019-05-06 09:08:46,674 迭代到第135轮；现在的loss为：0.1821156144142151\n",
      "2019-05-06 09:10:26,019 迭代到第140轮；现在的loss为：0.17857159674167633\n",
      "2019-05-06 09:12:08,685 迭代到第145轮；现在的loss为：0.17305439710617065\n",
      "2019-05-06 09:13:54,328 迭代到第150轮；现在的loss为：0.19276602566242218\n",
      "2019-05-06 09:15:43,300 迭代到第155轮；现在的loss为：0.18047767877578735\n",
      "2019-05-06 09:17:33,498 迭代到第160轮；现在的loss为：0.1808755099773407\n",
      "2019-05-06 09:19:29,874 迭代到第165轮；现在的loss为：0.18240952491760254\n",
      "2019-05-06 09:21:28,715 迭代到第170轮；现在的loss为：0.1671629250049591\n",
      "2019-05-06 09:23:30,181 迭代到第175轮；现在的loss为：0.19410806894302368\n",
      "2019-05-06 09:25:37,286 迭代到第180轮；现在的loss为：0.16350796818733215\n",
      "2019-05-06 09:27:50,809 迭代到第185轮；现在的loss为：0.13140758872032166\n"
     ]
    }
   ],
   "source": [
    "train(unet, i_net, train_dataset)"
   ]
  },
  {
   "cell_type": "code",
   "execution_count": null,
   "metadata": {
    "pycharm": {}
   },
   "outputs": [],
   "source": []
  }
 ],
 "metadata": {
  "kernelspec": {
   "display_name": "Python 3",
   "language": "python",
   "name": "python3"
  },
  "language_info": {
   "codemirror_mode": {
    "name": "ipython",
    "version": 3
   },
   "file_extension": ".py",
   "mimetype": "text/x-python",
   "name": "python",
   "nbconvert_exporter": "python",
   "pygments_lexer": "ipython3",
   "version": "3.7.3"
  },
  "stem_cell": {
   "cell_type": "raw",
   "metadata": {
    "pycharm": {
     "metadata": false
    }
   },
   "source": ""
  },
  "toc": {
   "base_numbering": 1,
   "nav_menu": {},
   "number_sections": true,
   "sideBar": true,
   "skip_h1_title": false,
   "title_cell": "Table of Contents",
   "title_sidebar": "Contents",
   "toc_cell": false,
   "toc_position": {},
   "toc_section_display": true,
   "toc_window_display": false
  }
 },
 "nbformat": 4,
 "nbformat_minor": 1
}
