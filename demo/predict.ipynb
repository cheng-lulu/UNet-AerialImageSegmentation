{
  "cells": [
    {
      "cell_type": "code",
      "execution_count": null,
      "metadata": {
        "collapsed": true,
        "pycharm": {}
      },
      "outputs": [],
      "source": "import sys\nsys.path.append(\u0027..\u0027)\nfrom src.train import *"
    },
    {
      "cell_type": "code",
      "execution_count": null,
      "outputs": [],
      "source": "unet\u003dUNet()\ni_net \u003d NetDir(\u0027../i_net\u0027, \u0027unet\u0027)\nunet.predict(\u0027../fake_data/test/split/data/0_0.png\u0027,i_net.dir_dict[\u0027model\u0027], \u0027.\u0027)\n",
      "metadata": {
        "pycharm": {
          "metadata": false,
          "name": "#%%\n"
        }
      }
    }
  ],
  "metadata": {
    "language_info": {
      "codemirror_mode": {
        "name": "ipython",
        "version": 2
      },
      "file_extension": ".py",
      "mimetype": "text/x-python",
      "name": "python",
      "nbconvert_exporter": "python",
      "pygments_lexer": "ipython2",
      "version": "2.7.6"
    },
    "kernelspec": {
      "name": "python3",
      "language": "python",
      "display_name": "Python 3"
    }
  },
  "nbformat": 4,
  "nbformat_minor": 0
}